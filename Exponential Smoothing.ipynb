{
 "cells": [
  {
   "cell_type": "code",
   "execution_count": 62,
   "id": "733fcd8c",
   "metadata": {},
   "outputs": [],
   "source": [
    "import numpy as np\n",
    "import pandas as pd\n",
    "from pmdarima import auto_arima\n",
    "from sklearn.metrics import mean_squared_error\n",
    "from statsmodels.tools.eval_measures import rmse\n",
    "from statsmodels.tsa.holtwinters import SimpleExpSmoothing, ExponentialSmoothing\n",
    "\n",
    "import warnings\n",
    "import seaborn as sns \n",
    "from itertools import cycle\n",
    "import matplotlib.pyplot as plt\n",
    "%matplotlib inline \n",
    "plt.style.use('bmh')\n",
    "sns.set_style(\"whitegrid\")\n",
    "plt.rc('xtick', labelsize=15) \n",
    "plt.rc('ytick', labelsize=15) \n",
    "warnings.filterwarnings(\"ignore\")\n",
    "color_pal = plt.rcParams['axes.prop_cycle'].by_key()['color']\n",
    "color_cycle = cycle(plt.rcParams['axes.prop_cycle'].by_key()['color'])"
   ]
  },
  {
   "cell_type": "code",
   "execution_count": 63,
   "id": "919b1e0e",
   "metadata": {},
   "outputs": [],
   "source": [
    "import numpy as np\n",
    "def smape(a,f):\n",
    "    return 1/len(a)*np.sum(2 * np.abs(f - a) / (np.abs(a)+ np.abs(f))*100)"
   ]
  },
  {
   "cell_type": "code",
   "execution_count": 78,
   "id": "25624358",
   "metadata": {
    "scrolled": true
   },
   "outputs": [
    {
     "data": {
      "text/plain": [
       "['Sheet1']"
      ]
     },
     "execution_count": 78,
     "metadata": {},
     "output_type": "execute_result"
    }
   ],
   "source": [
    "dataxls = pd.ExcelFile(\"/Users/tharismac/Downloads/46Items_xlsx/I43.xlsx\")\n",
    "\n",
    "# Now you can list all sheets in the file\n",
    "dataxls.sheet_names\n"
   ]
  },
  {
   "cell_type": "code",
   "execution_count": 79,
   "id": "f484b7f6",
   "metadata": {},
   "outputs": [
    {
     "data": {
      "text/html": [
       "<div>\n",
       "<style scoped>\n",
       "    .dataframe tbody tr th:only-of-type {\n",
       "        vertical-align: middle;\n",
       "    }\n",
       "\n",
       "    .dataframe tbody tr th {\n",
       "        vertical-align: top;\n",
       "    }\n",
       "\n",
       "    .dataframe thead th {\n",
       "        text-align: right;\n",
       "    }\n",
       "</style>\n",
       "<table border=\"1\" class=\"dataframe\">\n",
       "  <thead>\n",
       "    <tr style=\"text-align: right;\">\n",
       "      <th></th>\n",
       "      <th>Week</th>\n",
       "      <th>I</th>\n",
       "    </tr>\n",
       "  </thead>\n",
       "  <tbody>\n",
       "    <tr>\n",
       "      <th>0</th>\n",
       "      <td>January 10, 2021</td>\n",
       "      <td>3101.52</td>\n",
       "    </tr>\n",
       "    <tr>\n",
       "      <th>1</th>\n",
       "      <td>January 17, 2021</td>\n",
       "      <td>3867.56</td>\n",
       "    </tr>\n",
       "    <tr>\n",
       "      <th>2</th>\n",
       "      <td>January 24, 2021</td>\n",
       "      <td>3854.58</td>\n",
       "    </tr>\n",
       "    <tr>\n",
       "      <th>3</th>\n",
       "      <td>January 31, 2021</td>\n",
       "      <td>2815.69</td>\n",
       "    </tr>\n",
       "    <tr>\n",
       "      <th>4</th>\n",
       "      <td>February 7, 2021</td>\n",
       "      <td>3549.96</td>\n",
       "    </tr>\n",
       "    <tr>\n",
       "      <th>...</th>\n",
       "      <td>...</td>\n",
       "      <td>...</td>\n",
       "    </tr>\n",
       "    <tr>\n",
       "      <th>85</th>\n",
       "      <td>August 28, 2022</td>\n",
       "      <td>2548.02</td>\n",
       "    </tr>\n",
       "    <tr>\n",
       "      <th>86</th>\n",
       "      <td>September 4, 2022</td>\n",
       "      <td>1979.58</td>\n",
       "    </tr>\n",
       "    <tr>\n",
       "      <th>87</th>\n",
       "      <td>September 11, 2022</td>\n",
       "      <td>1900.62</td>\n",
       "    </tr>\n",
       "    <tr>\n",
       "      <th>88</th>\n",
       "      <td>September 18, 2022</td>\n",
       "      <td>2029.46</td>\n",
       "    </tr>\n",
       "    <tr>\n",
       "      <th>89</th>\n",
       "      <td>September 25, 2022</td>\n",
       "      <td>447.44</td>\n",
       "    </tr>\n",
       "  </tbody>\n",
       "</table>\n",
       "<p>90 rows × 2 columns</p>\n",
       "</div>"
      ],
      "text/plain": [
       "                  Week        I\n",
       "0     January 10, 2021  3101.52\n",
       "1     January 17, 2021  3867.56\n",
       "2     January 24, 2021  3854.58\n",
       "3     January 31, 2021  2815.69\n",
       "4     February 7, 2021  3549.96\n",
       "..                 ...      ...\n",
       "85     August 28, 2022  2548.02\n",
       "86   September 4, 2022  1979.58\n",
       "87  September 11, 2022  1900.62\n",
       "88  September 18, 2022  2029.46\n",
       "89  September 25, 2022   447.44\n",
       "\n",
       "[90 rows x 2 columns]"
      ]
     },
     "execution_count": 79,
     "metadata": {},
     "output_type": "execute_result"
    }
   ],
   "source": [
    "data = pd.read_excel(dataxls,header=0)\n",
    "data"
   ]
  },
  {
   "cell_type": "code",
   "execution_count": 80,
   "id": "0ecbf9ce",
   "metadata": {},
   "outputs": [],
   "source": [
    "train_data = data.iloc[:75]\n",
    "test_data = data.iloc[75:]"
   ]
  },
  {
   "cell_type": "code",
   "execution_count": 81,
   "id": "c802ccda",
   "metadata": {
    "scrolled": true
   },
   "outputs": [
    {
     "data": {
      "text/html": [
       "<div>\n",
       "<style scoped>\n",
       "    .dataframe tbody tr th:only-of-type {\n",
       "        vertical-align: middle;\n",
       "    }\n",
       "\n",
       "    .dataframe tbody tr th {\n",
       "        vertical-align: top;\n",
       "    }\n",
       "\n",
       "    .dataframe thead th {\n",
       "        text-align: right;\n",
       "    }\n",
       "</style>\n",
       "<table border=\"1\" class=\"dataframe\">\n",
       "  <thead>\n",
       "    <tr style=\"text-align: right;\">\n",
       "      <th></th>\n",
       "      <th>Week</th>\n",
       "      <th>I</th>\n",
       "    </tr>\n",
       "  </thead>\n",
       "  <tbody>\n",
       "    <tr>\n",
       "      <th>75</th>\n",
       "      <td>June 19, 2022</td>\n",
       "      <td>2822.08</td>\n",
       "    </tr>\n",
       "    <tr>\n",
       "      <th>76</th>\n",
       "      <td>June 26, 2022</td>\n",
       "      <td>3053.58</td>\n",
       "    </tr>\n",
       "    <tr>\n",
       "      <th>77</th>\n",
       "      <td>July 3, 2022</td>\n",
       "      <td>2957.80</td>\n",
       "    </tr>\n",
       "    <tr>\n",
       "      <th>78</th>\n",
       "      <td>July 10, 2022</td>\n",
       "      <td>3569.93</td>\n",
       "    </tr>\n",
       "    <tr>\n",
       "      <th>79</th>\n",
       "      <td>July 17, 2022</td>\n",
       "      <td>4109.08</td>\n",
       "    </tr>\n",
       "    <tr>\n",
       "      <th>80</th>\n",
       "      <td>July 24, 2022</td>\n",
       "      <td>3753.72</td>\n",
       "    </tr>\n",
       "    <tr>\n",
       "      <th>81</th>\n",
       "      <td>July 31, 2022</td>\n",
       "      <td>3328.24</td>\n",
       "    </tr>\n",
       "    <tr>\n",
       "      <th>82</th>\n",
       "      <td>August 7, 2022</td>\n",
       "      <td>2851.64</td>\n",
       "    </tr>\n",
       "    <tr>\n",
       "      <th>83</th>\n",
       "      <td>August 14, 2022</td>\n",
       "      <td>3214.38</td>\n",
       "    </tr>\n",
       "    <tr>\n",
       "      <th>84</th>\n",
       "      <td>August 21, 2022</td>\n",
       "      <td>2294.94</td>\n",
       "    </tr>\n",
       "    <tr>\n",
       "      <th>85</th>\n",
       "      <td>August 28, 2022</td>\n",
       "      <td>2548.02</td>\n",
       "    </tr>\n",
       "    <tr>\n",
       "      <th>86</th>\n",
       "      <td>September 4, 2022</td>\n",
       "      <td>1979.58</td>\n",
       "    </tr>\n",
       "    <tr>\n",
       "      <th>87</th>\n",
       "      <td>September 11, 2022</td>\n",
       "      <td>1900.62</td>\n",
       "    </tr>\n",
       "    <tr>\n",
       "      <th>88</th>\n",
       "      <td>September 18, 2022</td>\n",
       "      <td>2029.46</td>\n",
       "    </tr>\n",
       "    <tr>\n",
       "      <th>89</th>\n",
       "      <td>September 25, 2022</td>\n",
       "      <td>447.44</td>\n",
       "    </tr>\n",
       "  </tbody>\n",
       "</table>\n",
       "</div>"
      ],
      "text/plain": [
       "                  Week        I\n",
       "75       June 19, 2022  2822.08\n",
       "76       June 26, 2022  3053.58\n",
       "77        July 3, 2022  2957.80\n",
       "78       July 10, 2022  3569.93\n",
       "79       July 17, 2022  4109.08\n",
       "80       July 24, 2022  3753.72\n",
       "81       July 31, 2022  3328.24\n",
       "82      August 7, 2022  2851.64\n",
       "83     August 14, 2022  3214.38\n",
       "84     August 21, 2022  2294.94\n",
       "85     August 28, 2022  2548.02\n",
       "86   September 4, 2022  1979.58\n",
       "87  September 11, 2022  1900.62\n",
       "88  September 18, 2022  2029.46\n",
       "89  September 25, 2022   447.44"
      ]
     },
     "execution_count": 81,
     "metadata": {},
     "output_type": "execute_result"
    }
   ],
   "source": [
    "test_data"
   ]
  },
  {
   "cell_type": "code",
   "execution_count": 82,
   "id": "0ab38a61",
   "metadata": {},
   "outputs": [],
   "source": [
    "span = 12\n",
    "alpha = 2/(span+1)\n",
    "simpleExpSmooth_model = SimpleExpSmoothing(train_data['I']).fit(smoothing_level=alpha,optimized=True)\n",
    "doubleExpSmooth_model = ExponentialSmoothing(train_data['I'],trend='additive',seasonal_periods=6).fit()\n",
    "tripleExpSmooth_model = ExponentialSmoothing(train_data['I'],trend='additive',seasonal='additive',seasonal_periods=4).fit()"
   ]
  },
  {
   "cell_type": "code",
   "execution_count": 83,
   "id": "b693eec4",
   "metadata": {},
   "outputs": [],
   "source": [
    "predictions_simpleExpSmooth_model = simpleExpSmooth_model.forecast(15)\n",
    "predictions_doubleExpSmooth_model = doubleExpSmooth_model.forecast(15)\n",
    "predictions_tripleExpSmooth_model = tripleExpSmooth_model.forecast(15)"
   ]
  },
  {
   "cell_type": "code",
   "execution_count": 84,
   "id": "da11320a",
   "metadata": {},
   "outputs": [
    {
     "name": "stdout",
     "output_type": "stream",
     "text": [
      "Simple Exponential Smoothing sMAPE:  =  28.92043233348711\n",
      "Double Exponential Smoothing sMAPE:  =  34.94283347682135\n",
      "Triple Exponential Smoothing sMAPE:  =  31.72458652456878\n"
     ]
    }
   ],
   "source": [
    "print('Simple Exponential Smoothing sMAPE:'  ,\" = \", smape(test_data[\"I\"],predictions_simpleExpSmooth_model))\n",
    "print('Double Exponential Smoothing sMAPE:' ,\" = \", smape(test_data[\"I\"],predictions_doubleExpSmooth_model))\n",
    "print('Triple Exponential Smoothing sMAPE:',\" = \", smape(test_data[\"I\"],predictions_tripleExpSmooth_model))"
   ]
  },
  {
   "cell_type": "code",
   "execution_count": 85,
   "id": "df57c9d6",
   "metadata": {},
   "outputs": [
    {
     "data": {
      "text/plain": [
       "<AxesSubplot:>"
      ]
     },
     "execution_count": 85,
     "metadata": {},
     "output_type": "execute_result"
    },
    {
     "data": {
      "image/png": "[encoded data removed]",
      "text/plain": [
       "<Figure size 1080x432 with 1 Axes>"
      ]
     },
     "metadata": {},
     "output_type": "display_data"
    }
   ],
   "source": [
    "train_data['I'].plot(legend=True,label='TRAIN')\n",
    "test_data['I'].plot(legend=True,label='TEST',figsize=(15,6))\n",
    "predictions_simpleExpSmooth_model.plot(legend=True,label='Simple Exponential Forecast')\n",
    "predictions_doubleExpSmooth_model.plot(legend=True,label='Double Exponential Forecast')\n",
    "predictions_tripleExpSmooth_model.plot(legend=True,label='Triple Exponential Forecast')"
   ]
  },
  {
   "cell_type": "code",
   "execution_count": 86,
   "id": "689e978b",
   "metadata": {},
   "outputs": [
    {
     "data": {
      "text/html": [
       "<div>\n",
       "<style scoped>\n",
       "    .dataframe tbody tr th:only-of-type {\n",
       "        vertical-align: middle;\n",
       "    }\n",
       "\n",
       "    .dataframe tbody tr th {\n",
       "        vertical-align: top;\n",
       "    }\n",
       "\n",
       "    .dataframe thead th {\n",
       "        text-align: right;\n",
       "    }\n",
       "</style>\n",
       "<table border=\"1\" class=\"dataframe\">\n",
       "  <thead>\n",
       "    <tr style=\"text-align: right;\">\n",
       "      <th></th>\n",
       "      <th>Week</th>\n",
       "      <th>I</th>\n",
       "    </tr>\n",
       "  </thead>\n",
       "  <tbody>\n",
       "    <tr>\n",
       "      <th>75</th>\n",
       "      <td>June 19, 2022</td>\n",
       "      <td>2822.08</td>\n",
       "    </tr>\n",
       "    <tr>\n",
       "      <th>76</th>\n",
       "      <td>June 26, 2022</td>\n",
       "      <td>3053.58</td>\n",
       "    </tr>\n",
       "    <tr>\n",
       "      <th>77</th>\n",
       "      <td>July 3, 2022</td>\n",
       "      <td>2957.80</td>\n",
       "    </tr>\n",
       "    <tr>\n",
       "      <th>78</th>\n",
       "      <td>July 10, 2022</td>\n",
       "      <td>3569.93</td>\n",
       "    </tr>\n",
       "    <tr>\n",
       "      <th>79</th>\n",
       "      <td>July 17, 2022</td>\n",
       "      <td>4109.08</td>\n",
       "    </tr>\n",
       "    <tr>\n",
       "      <th>80</th>\n",
       "      <td>July 24, 2022</td>\n",
       "      <td>3753.72</td>\n",
       "    </tr>\n",
       "    <tr>\n",
       "      <th>81</th>\n",
       "      <td>July 31, 2022</td>\n",
       "      <td>3328.24</td>\n",
       "    </tr>\n",
       "    <tr>\n",
       "      <th>82</th>\n",
       "      <td>August 7, 2022</td>\n",
       "      <td>2851.64</td>\n",
       "    </tr>\n",
       "    <tr>\n",
       "      <th>83</th>\n",
       "      <td>August 14, 2022</td>\n",
       "      <td>3214.38</td>\n",
       "    </tr>\n",
       "    <tr>\n",
       "      <th>84</th>\n",
       "      <td>August 21, 2022</td>\n",
       "      <td>2294.94</td>\n",
       "    </tr>\n",
       "    <tr>\n",
       "      <th>85</th>\n",
       "      <td>August 28, 2022</td>\n",
       "      <td>2548.02</td>\n",
       "    </tr>\n",
       "    <tr>\n",
       "      <th>86</th>\n",
       "      <td>September 4, 2022</td>\n",
       "      <td>1979.58</td>\n",
       "    </tr>\n",
       "    <tr>\n",
       "      <th>87</th>\n",
       "      <td>September 11, 2022</td>\n",
       "      <td>1900.62</td>\n",
       "    </tr>\n",
       "    <tr>\n",
       "      <th>88</th>\n",
       "      <td>September 18, 2022</td>\n",
       "      <td>2029.46</td>\n",
       "    </tr>\n",
       "    <tr>\n",
       "      <th>89</th>\n",
       "      <td>September 25, 2022</td>\n",
       "      <td>447.44</td>\n",
       "    </tr>\n",
       "  </tbody>\n",
       "</table>\n",
       "</div>"
      ],
      "text/plain": [
       "                  Week        I\n",
       "75       June 19, 2022  2822.08\n",
       "76       June 26, 2022  3053.58\n",
       "77        July 3, 2022  2957.80\n",
       "78       July 10, 2022  3569.93\n",
       "79       July 17, 2022  4109.08\n",
       "80       July 24, 2022  3753.72\n",
       "81       July 31, 2022  3328.24\n",
       "82      August 7, 2022  2851.64\n",
       "83     August 14, 2022  3214.38\n",
       "84     August 21, 2022  2294.94\n",
       "85     August 28, 2022  2548.02\n",
       "86   September 4, 2022  1979.58\n",
       "87  September 11, 2022  1900.62\n",
       "88  September 18, 2022  2029.46\n",
       "89  September 25, 2022   447.44"
      ]
     },
     "execution_count": 86,
     "metadata": {},
     "output_type": "execute_result"
    }
   ],
   "source": [
    "test_data"
   ]
  },
  {
   "cell_type": "code",
   "execution_count": 87,
   "id": "11e6b877",
   "metadata": {},
   "outputs": [
    {
     "data": {
      "text/plain": [
       "75    3232.356955\n",
       "76    3433.533052\n",
       "77    3350.387241\n",
       "78    3470.597248\n",
       "79    3241.378725\n",
       "80    3442.554822\n",
       "81    3359.409011\n",
       "82    3479.619018\n",
       "83    3250.400496\n",
       "84    3451.576593\n",
       "85    3368.430782\n",
       "86    3488.640788\n",
       "87    3259.422266\n",
       "88    3460.598363\n",
       "89    3377.452552\n",
       "dtype: float64"
      ]
     },
     "execution_count": 87,
     "metadata": {},
     "output_type": "execute_result"
    }
   ],
   "source": [
    "predictions_tripleExpSmooth_model"
   ]
  },
  {
   "cell_type": "code",
   "execution_count": 88,
   "id": "2ede2e1e",
   "metadata": {},
   "outputs": [],
   "source": [
    "#print('Simple Exponential Smoothing RMSE: {:.4f}'.format(np.sqrt(mean_squared_error(test_data,predictions_simpleExpSmooth_model))))\n",
    "#print('Double Exponential Smoothing RMSE: {:.4f}'.format(np.sqrt(mean_squared_error(test_data,predictions_doubleExpSmooth_model))))\n",
    "#print('Triple Exponential Smoothing RMSE: {:.4f}'.format(np.sqrt(mean_squared_error(test_data,predictions_tripleExpSmooth_model))))"
   ]
  },
  {
   "cell_type": "code",
   "execution_count": 89,
   "id": "e34702d8",
   "metadata": {},
   "outputs": [
    {
     "name": "stdout",
     "output_type": "stream",
     "text": [
      "Simple Exponential Smoothing sMAPE:  =  28.92043233348711\n",
      "Double Exponential Smoothing sMAPE:  =  34.94283347682135\n",
      "Triple Exponential Smoothing sMAPE:  =  31.72458652456878\n"
     ]
    }
   ],
   "source": [
    "print('Simple Exponential Smoothing sMAPE:'  ,\" = \", smape(test_data[\"I\"],predictions_simpleExpSmooth_model))\n",
    "print('Double Exponential Smoothing sMAPE:' ,\" = \", smape(test_data[\"I\"],predictions_doubleExpSmooth_model))\n",
    "print('Triple Exponential Smoothing sMAPE:',\" = \", smape(test_data[\"I\"],predictions_tripleExpSmooth_model))"
   ]
  },
  {
   "cell_type": "code",
   "execution_count": 90,
   "id": "6016bac0",
   "metadata": {},
   "outputs": [
    {
     "data": {
      "image/png": "[encoded data removed]",
      "text/plain": [
       "<Figure size 864x432 with 1 Axes>"
      ]
     },
     "metadata": {},
     "output_type": "display_data"
    }
   ],
   "source": [
    "model = ExponentialSmoothing(data['I'],trend='additive',seasonal='additive',seasonal_periods=4)\n",
    "results = model.fit()\n",
    "fcast = results.predict(len(data),len(data)+12).rename('Triple Exponential Forecast')\n",
    "\n",
    "# Plot predictions against known values\n",
    "title = 'future forecast'\n",
    "ylabel='Item'\n",
    "xlabel='Week'\n",
    "\n",
    "ax = data['I'].plot(legend=True,figsize=(12,6),title=title)\n",
    "fcast.plot(legend=True)\n",
    "ax.autoscale(axis='x',tight=True)\n",
    "ax.set(xlabel=xlabel, ylabel=ylabel);"
   ]
  },
  {
   "cell_type": "code",
   "execution_count": 91,
   "id": "7a9c388f",
   "metadata": {},
   "outputs": [
    {
     "data": {
      "text/plain": [
       "90     937.089401\n",
       "91     784.840211\n",
       "92     739.708583\n",
       "93     715.211150\n",
       "94     818.691083\n",
       "95     666.441893\n",
       "96     621.310265\n",
       "97     596.812832\n",
       "98     700.292765\n",
       "99     548.043575\n",
       "100    502.911947\n",
       "101    478.414514\n",
       "102    581.894447\n",
       "Name: Triple Exponential Forecast, dtype: float64"
      ]
     },
     "execution_count": 91,
     "metadata": {},
     "output_type": "execute_result"
    }
   ],
   "source": [
    "fcast"
   ]
  },
  {
   "cell_type": "code",
   "execution_count": 92,
   "id": "8b7a24ca",
   "metadata": {},
   "outputs": [],
   "source": [
    "fcast.to_excel(\"/Users/tharismac/Desktop/Forecast Result 13 Weeks.xlsx\")"
   ]
  },
  {
   "cell_type": "code",
   "execution_count": null,
   "id": "48689d13",
   "metadata": {},
   "outputs": [],
   "source": []
  }
 ],
 "metadata": {
  "kernelspec": {
   "display_name": "Python 3 (ipykernel)",
   "language": "python",
   "name": "python3"
  },
  "language_info": {
   "codemirror_mode": {
    "name": "ipython",
    "version": 3
   },
   "file_extension": ".py",
   "mimetype": "text/x-python",
   "name": "python",
   "nbconvert_exporter": "python",
   "pygments_lexer": "ipython3",
   "version": "3.9.12"
  }
 },
 "nbformat": 4,
 "nbformat_minor": 5
}
